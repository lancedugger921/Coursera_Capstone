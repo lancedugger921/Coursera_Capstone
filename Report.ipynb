{
 "cells": [
  {
   "cell_type": "markdown",
   "metadata": {
    "collapsed": true
   },
   "source": [
    "# Battle of the Neighborhoods\n",
    "___"
   ]
  },
  {
   "cell_type": "markdown",
   "metadata": {},
   "source": [
    "## Problem Statement"
   ]
  },
  {
   "cell_type": "markdown",
   "metadata": {},
   "source": [
    "My friend is a Masters student at the University of Pittsburgh.  He has been offered a job at the university post graduation and is interested in purchasing a home.  He has asked me to help him decide in which neighborhood he will purchase a home.  He has two sets of priorities. His first set of priorities are his recreational activities.  He enjoys biking and being outside, so he is interested in being in close proximity to a park.  He also wants to be able to bike to work.  He is in his late twenties and still goes out to socialize frequently on the weekends so he wants the neighborhood to have a lively social scene.  His second set of priorities are for the quality of the neighborhood itself. This includes median house pricing, crime rate, and walkability to grocery stores and other essential stores.  I will be examining neighborhood data in Pittsburgh to give him the top three neighborhoods he should consider based on his priorities."
   ]
  },
  {
   "cell_type": "markdown",
   "metadata": {},
   "source": [
    "## Data Description"
   ]
  },
  {
   "cell_type": "markdown",
   "metadata": {},
   "source": [
    "I will be using data from the 2010 Pittsburgh Census.  This data will provide all the neighborhood names from Pittsburgh as well as crime rate, median house pricing, and other neighborhood statistics.  I found the latitude and longitude of each neighborhood on wikipedia and manually entered them into an excel document.  The latitude and longitude information will be used in conjuncation with the Foursquare API to determine the most common venues in each neighborhood and cluster the neighborhoods based on those venues."
   ]
  }
 ],
 "metadata": {
  "kernelspec": {
   "display_name": "Python 3.6",
   "language": "python",
   "name": "python3"
  },
  "language_info": {
   "codemirror_mode": {
    "name": "ipython",
    "version": 3
   },
   "file_extension": ".py",
   "mimetype": "text/x-python",
   "name": "python",
   "nbconvert_exporter": "python",
   "pygments_lexer": "ipython3",
   "version": "3.6.9"
  }
 },
 "nbformat": 4,
 "nbformat_minor": 1
}
